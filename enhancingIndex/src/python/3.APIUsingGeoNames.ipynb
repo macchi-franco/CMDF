import os
import csv
import time
import requests
from bs4 import BeautifulSoup

# Create API
username = 'ufaller'
base_url = 'http://api.geonames.org/search'

folder_path = ''
file_list = os.listdir(folder_path)

# what column will I use
value_col = 'valeur-text'

# what do I want the columns to be called
lat_col = 'latitude'
lon_col = 'longitude'
geonameid_col = 'geonameid'

for input_file in file_list:
    if not input_file.endswith('.csv'):
        continue
    # Input and output files
    input_path = os.path.join(folder_path, input_file)
    output_file = os.path.join(folder_path, f"encoded_{input_file}")
    
    with open(input_path, 'r', encoding='utf-8') as in_file, \
         open(output_file, 'w', newline='', encoding='utf-8') as out_file:

        # CSV readers and writers
        reader = csv.DictReader(in_file)
        fieldnames = reader.fieldnames + [lat_col, lon_col, geonameid_col]
        if geonameid_col not in fieldnames:
            fieldnames.append(geonameid_col)  # add geonameid_col if it's not already in fieldnames
        writer = csv.DictWriter(out_file, fieldnames=fieldnames)
        writer.writeheader()

        retrieved_geoid = set()

        # loop through the file 
        for row in reader:

            # Check if geonameid has already been retrieved for this value
            if row[value_col] in retrieved_geoid:
                continue

            # make the API request URL
            params = {
                'q': row[value_col],   # q == the search query (Paris for example)
                'username': username #this is my geonames username (have to enable this feature after account creation)
            }
            url = f"{base_url}?{requests.compat.urlencode(params)}" #so the url is made up of requests.compat.urlencode() this is a function added to the params as established above
            #url stores the variable of the urls 
            # example = http://api.geonames.org/search?style=FULL&name=Paris&username=ufaller&country=FR
            # API request and parse the response
            response = requests.get(url)
            if response.status_code == 200:
                geonames = BeautifulSoup(response.content, features="xml")
                lat = geonames.find('lat').text if geonames.find('lat') else None
                lon = geonames.find('lng').text if geonames.find('lng') else None
                geonameid = geonames.find('geonameId').text if geonames.find('geonameId') else None
                row[lat_col] = lat
                row[lon_col] = lon
                row[geonameid_col] = geonameid
                retrieved_geoid.add(row[value_col])

            else:
                print(f"API request failed with status code {response.status_code}")
                row[lat_col] = None
                row[lon_col] = None
                row[geonameid_col] = None

            # Write to output CSV file
            writer.writerow(row)