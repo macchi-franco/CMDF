import csv
from bs4 import BeautifulSoup
import os
import time
import requests
import pandas as pd


folder_path = ''
output_file = ''

# List all TEI files in the specified folder
tei_files = [f for f in os.listdir(folder_path) if f.endswith('.xml')]

data = []

for file_name in tei_files:
    file_path = os.path.join(folder_path, file_name)
    with open(file_path, 'r', encoding='utf-8') as file:
        # Parse the XML content with Beautiful Soup
        soup = BeautifulSoup(file, 'xml')

    for elem in soup.find_all(['element needed']):
        # Extract the element tag, its text content, and the xml:id attribute
        tag = elem.name
        content = elem.text
        xml_id = elem.get('xml:id')
        data.append((file_name, tag, content, xml_id))

with open(output_file, 'w', newline='', encoding='utf-8') as file:
    writer = csv.writer(file)
    writer.writerow(['Fichier', 'local-name', 'valeur-text', 'xml:id'])
    for row in data:
        row = list(row)
        for i in range(len(row)):
            if isinstance(row[i], str):
                row[i] = row[i].strip('[')
                row[i] = row[i].strip(']')
        writer.writerow(row)