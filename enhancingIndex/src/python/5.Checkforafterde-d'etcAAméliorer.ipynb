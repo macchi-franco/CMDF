import pandas as pd
import requests
from geopy.geocoders import GeoNames
import re

# Read the CSV file into a DataFrame
df = pd.read_csv('origPlace02062023-nonrecup.csv', encoding='utf-8')

# Create a geocoder object
geolocator = GeoNames(username='ufaller')

# Function to geolocalize a place name
def geolocalize(place):
    location = geolocator.geocode(place)
    if location is not None:
        return location.latitude, location.longitude
    else:
        return None, None

# Iterate over each row in the DataFrame
for index, row in df.iterrows():
    term = row['Name']  # Assuming 'Name' is the column name containing the named entities

    # Check if the term contains "de" or "d'"
    if 'de' in term or "d'" in term:
        # Extract the part after "de" or "d'"
        parts = re.split(r"de|d'", term, flags=re.IGNORECASE)
        if len(parts) > 1:
            location = parts[1].strip()
            latitude, longitude = geolocalize(location)
            if latitude is not None and longitude is not None:
                # Geolocation successful, update the corresponding columns
                df.loc[index, 'Latitude'] = latitude
                df.loc[index, 'Longitude'] = longitude

# Write the updated DataFrame to a new CSV file with UTF-8 encoding
df.to_csv('geolocated_file.csv', index=False, encoding='utf-8')