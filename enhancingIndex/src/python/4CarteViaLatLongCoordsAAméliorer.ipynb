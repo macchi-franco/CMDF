import pandas as pd
import folium
from folium.plugins import FastMarkerCluster

# Load the CSV file into a Pandas DataFrame
df = pd.read_csv('.csv', sep=';')

# Create a map centered on the average of the coordinates
map = folium.Map(location=[df['latitude'].mean(), df['longitude'].mean()], zoom_start=12)

# Add a FastMarkerCluster layer to the map
FastMarkerCluster(data=list(zip(df['latitude'].values, df['longitude'].values))).add_to(map)

# Add a marker for each location
for idx, row in df.iterrows():
    folium.Marker(location=[row['latitude'], row['longitude']],
                  popup=row['valeur-text']).add_to(map)

# Save the map to an HTML file
map.save('map.html')