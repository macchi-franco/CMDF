import os
import re

def replace_origPlace(folder_path):
    
    new_folder_path = os.path.join(folder_path, "modified")
    os.makedirs(new_folder_path, exist_ok=True)

   
    for filename in os.listdir(folder_path):
        if filename.endswith(".xml"):  # Process only XML files
            file_path = os.path.join(folder_path, filename)
            with open(file_path, "r", encoding="utf-8") as file:
                content = file.read()

            
            modified_content = re.sub(r'<origPlace>(.*?)\(\?\)</origPlace>', r'<origPlace @cert="low">\1''</origPlace>', content)

          
            new_filename = f"modified_{filename}"
            new_file_path = os.path.join(new_folder_path, new_filename)
            with open(new_file_path, "w", encoding="utf-8") as file:
                file.write(modified_content)

            print(f"Modified: {new_file_path}")


folder_path = ''
replace_origPlace(folder_path)