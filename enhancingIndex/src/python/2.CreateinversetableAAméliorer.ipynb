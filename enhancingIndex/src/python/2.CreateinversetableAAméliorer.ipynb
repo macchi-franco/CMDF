2. Create inverse table

pip install python-Levenshtein

import pandas as pd
from fuzzywuzzy import fuzz

# Read the CSV file into a DataFrame
df = pd.read_csv('extracteddata_08-06-2023.csv')

# Create a new DataFrame to store the consolidated entries
consolidated_df = pd.DataFrame(columns=['Retained_Term', 'Index_Entities'])

# Set the similarity threshold
similarity_threshold = 90

# Iterate over each row in the original DataFrame
for index, row in df.iterrows():
    term = row['valeur-text']  # Assuming 'valeur-text' is the column name containing the named entities

    # Check if the term already exists in the consolidated DataFrame
    existing_entry = consolidated_df[consolidated_df['Retained_Term'].apply(lambda x: fuzz.token_set_ratio(x, term) > similarity_threshold)]
    
    if len(existing_entry) > 0:
        # Update the 'Index_Entities' column of the existing entry
        consolidated_df.loc[existing_entry.index, 'Index_Entities'] += ', ' + row['xml:id']
    else:
        # Create a new entry in the consolidated DataFrame
        new_entry = pd.DataFrame({
            'Retained_Term': [term],
            'Index_Entities': [row['xml:id']]
        })
        consolidated_df = pd.concat([consolidated_df, new_entry], ignore_index=True)

# Write the consolidated DataFrame to a new CSV file
consolidated_df.to_csv('consolidated_file_08-06-2023.csv', index=False)